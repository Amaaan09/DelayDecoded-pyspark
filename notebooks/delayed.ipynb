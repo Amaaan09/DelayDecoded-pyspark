{
 "cells": [
  {
   "cell_type": "code",
   "execution_count": 2,
   "metadata": {},
   "outputs": [],
   "source": [
    "import pandas as pd\n",
    "\n",
    "df = pd.read_csv('airport-data.csv')"
   ]
  },
  {
   "cell_type": "code",
   "execution_count": 7,
   "metadata": {},
   "outputs": [],
   "source": [
    "# Getting the wanted Attributes\n",
    "delayed_attrs = ['Airline', 'Origin', 'Dest', 'Distance', 'CRSArrTime', 'CRSDepTime', 'CRSElapsedTime', \n",
    "                 'Year', 'Quarter', 'Month', 'DayofMonth', 'DayOfWeek', 'Marketing_Airline_Network', \n",
    "                'Operated_or_Branded_Code_Share_Partners', 'IATA_Code_Marketing_Airline', 'Operating_Airline', \n",
    "                'IATA_Code_Operating_Airline']"
   ]
  },
  {
   "cell_type": "code",
   "execution_count": 8,
   "metadata": {},
   "outputs": [
    {
     "data": {
      "text/html": [
       "<div>\n",
       "<style scoped>\n",
       "    .dataframe tbody tr th:only-of-type {\n",
       "        vertical-align: middle;\n",
       "    }\n",
       "\n",
       "    .dataframe tbody tr th {\n",
       "        vertical-align: top;\n",
       "    }\n",
       "\n",
       "    .dataframe thead th {\n",
       "        text-align: right;\n",
       "    }\n",
       "</style>\n",
       "<table border=\"1\" class=\"dataframe\">\n",
       "  <thead>\n",
       "    <tr style=\"text-align: right;\">\n",
       "      <th></th>\n",
       "      <th>Airline</th>\n",
       "      <th>Origin</th>\n",
       "      <th>Dest</th>\n",
       "      <th>Distance</th>\n",
       "      <th>CRSArrTime</th>\n",
       "      <th>CRSDepTime</th>\n",
       "      <th>CRSElapsedTime</th>\n",
       "      <th>Year</th>\n",
       "      <th>Quarter</th>\n",
       "      <th>Month</th>\n",
       "      <th>DayofMonth</th>\n",
       "      <th>DayOfWeek</th>\n",
       "      <th>Marketing_Airline_Network</th>\n",
       "      <th>Operated_or_Branded_Code_Share_Partners</th>\n",
       "      <th>IATA_Code_Marketing_Airline</th>\n",
       "      <th>Operating_Airline</th>\n",
       "      <th>IATA_Code_Operating_Airline</th>\n",
       "    </tr>\n",
       "  </thead>\n",
       "  <tbody>\n",
       "    <tr>\n",
       "      <th>10</th>\n",
       "      <td>JetBlue Airways</td>\n",
       "      <td>PSP</td>\n",
       "      <td>JFK</td>\n",
       "      <td>2378.0</td>\n",
       "      <td>559</td>\n",
       "      <td>2153</td>\n",
       "      <td>306.0</td>\n",
       "      <td>2022</td>\n",
       "      <td>2</td>\n",
       "      <td>4</td>\n",
       "      <td>10</td>\n",
       "      <td>7</td>\n",
       "      <td>B6</td>\n",
       "      <td>B6</td>\n",
       "      <td>B6</td>\n",
       "      <td>B6</td>\n",
       "      <td>B6</td>\n",
       "    </tr>\n",
       "  </tbody>\n",
       "</table>\n",
       "</div>"
      ],
      "text/plain": [
       "            Airline Origin Dest  Distance  CRSArrTime  CRSDepTime  \\\n",
       "10  JetBlue Airways    PSP  JFK    2378.0         559        2153   \n",
       "\n",
       "    CRSElapsedTime  Year  Quarter  Month  DayofMonth  DayOfWeek  \\\n",
       "10           306.0  2022        2      4          10          7   \n",
       "\n",
       "   Marketing_Airline_Network Operated_or_Branded_Code_Share_Partners  \\\n",
       "10                        B6                                      B6   \n",
       "\n",
       "   IATA_Code_Marketing_Airline Operating_Airline IATA_Code_Operating_Airline  \n",
       "10                          B6                B6                          B6  "
      ]
     },
     "execution_count": 8,
     "metadata": {},
     "output_type": "execute_result"
    }
   ],
   "source": [
    "# Selecting a row where flight was delayed\n",
    "df[df['Distance'] == 2378.0][delayed_attrs]"
   ]
  },
  {
   "cell_type": "code",
   "execution_count": 9,
   "metadata": {},
   "outputs": [
    {
     "data": {
      "text/plain": [
       "array([['JetBlue Airways', 'PSP', 'JFK', 2378.0, 559, 2153, 306.0, 2022,\n",
       "        2, 4, 10, 7, 'B6', 'B6', 'B6', 'B6', 'B6']], dtype=object)"
      ]
     },
     "execution_count": 9,
     "metadata": {},
     "output_type": "execute_result"
    }
   ],
   "source": [
    "df[df['Distance'] == 2378.0][delayed_attrs].values"
   ]
  },
  {
   "cell_type": "code",
   "execution_count": null,
   "metadata": {},
   "outputs": [],
   "source": []
  }
 ],
 "metadata": {
  "kernelspec": {
   "display_name": "Python 3",
   "language": "python",
   "name": "python3"
  },
  "language_info": {
   "codemirror_mode": {
    "name": "ipython",
    "version": 3
   },
   "file_extension": ".py",
   "mimetype": "text/x-python",
   "name": "python",
   "nbconvert_exporter": "python",
   "pygments_lexer": "ipython3",
   "version": "3.10.2"
  },
  "orig_nbformat": 4
 },
 "nbformat": 4,
 "nbformat_minor": 2
}
